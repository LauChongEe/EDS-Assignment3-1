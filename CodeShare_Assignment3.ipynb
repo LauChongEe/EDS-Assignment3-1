{
 "cells": [
  {
   "cell_type": "code",
   "execution_count": null,
   "metadata": {
    "collapsed": true
   },
   "outputs": [],
   "source": [
    "## Assignment 3\n",
    "\n",
    "# scrape from lelong\n",
    "# find the pattern for the first page\n",
    "url = 'https://www.lelong.com.my/catalog/all/list?TheKeyword=macbook+pro&D='\n",
    "# write a loop to scrape from page 1 to the last page\n",
    "product_name=[]\n",
    "price_name=[]\n",
    "for page in range(1,20):\n",
    "    url_page = url+str(page)\n",
    "    scrape = requests.get(url_page)\n",
    "    soup = BeautifulSoup(scrape.content, 'lxml')\n",
    "    link = soup.find_all('div',{'class':'item','class':'summary'})\n",
    "    link1 = soup.find_all('div',{'class':'col total'})\n",
    "    length = len(link)\n",
    "    for i in range(0,length):\n",
    "        name = link[i].a.get('title')\n",
    "        product_name.append(name)\n",
    "        \n",
    "        #span_linlink1[i].find_all('span',{'class':'price pull-right'})\n",
    "        price = link1[i].div.span.b.string\n",
    "        price_name.append(price)\n",
    "        \n",
    "# write to csv\n",
    "# convert the list to a pandas dataframe\n",
    "\n",
    "df = pd.DataFrame({'name':product_name,'price':price_name})\n",
    "df['price'] = df.price.apply(lambda x : x.lstrip('RM '))\n",
    "df.to_csv('output.csv', index=False)\n",
    "df"
   ]
  }
 ],
 "metadata": {
  "kernelspec": {
   "display_name": "Python 3",
   "language": "python",
   "name": "python3"
  }
 },
 "nbformat": 4,
 "nbformat_minor": 2
}
